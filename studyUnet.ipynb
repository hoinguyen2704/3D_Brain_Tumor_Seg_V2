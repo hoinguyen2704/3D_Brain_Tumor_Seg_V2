{
 "cells": [
  {
   "cell_type": "code",
   "id": "ab204376",
   "metadata": {
    "ExecuteTime": {
     "end_time": "2025-10-14T20:18:25.829475Z",
     "start_time": "2025-10-14T20:18:22.727713Z"
    }
   },
   "source": [
    "import torch\n",
    "import torch.nn as nn\n",
    "import torchvision.transforms.functional as TF"
   ],
   "outputs": [],
   "execution_count": 1
  },
  {
   "cell_type": "code",
   "id": "18c4087a",
   "metadata": {
    "ExecuteTime": {
     "end_time": "2025-10-14T20:18:41.026836Z",
     "start_time": "2025-10-14T20:18:40.861366Z"
    }
   },
   "source": [
    "if torch.backends.mps.is_available():\n",
    "    print(\"MPS có sẵn.\")\n",
    "    device = torch.device(\"mps\")\n",
    "else:\n",
    "    print(\"MPS không có sẵn. Đang sử dụng CPU.\")\n",
    "    device = torch.device(\"cpu\")\n",
    "\n",
    "print(f\"Thiết bị đang sử dụng: {device}\")\n",
    "\n",
    "# Ví dụ chuyển tensor lên GPU\n",
    "x = torch.ones(5, device=device)\n",
    "print(f\"Tensor đã được tạo trên thiết bị: {x.device}\")"
   ],
   "outputs": [
    {
     "name": "stdout",
     "output_type": "stream",
     "text": [
      "MPS có sẵn.\n",
      "Thiết bị đang sử dụng: mps\n",
      "Tensor đã được tạo trên thiết bị: mps:0\n"
     ]
    }
   ],
   "execution_count": 2
  },
  {
   "metadata": {},
   "cell_type": "code",
   "outputs": [],
   "execution_count": null,
   "source": [
    "class DoubleConv(nn.Module):\n",
    "    def __int__(self, in_channels, out_channels):\n",
    "        super(DoubleConv, self).__init__()\n",
    "        self.conv  = nn.Sequential(\n",
    "            # Mục tiêu: học các đặc trưng cơ bản (edges, contours, v.v.) từ ảnh đầu vào, sau đó kết hợp chúng để học các đặc trưng phức tạp hơn.\n",
    "            nn.Conv2d(in_channels, out_channels, kernel_size=3, padding=1, stride=1, bias=False),\n",
    "            nn.BatchNorm2d(out_channels),\n",
    "            nn.ReLU(inplace=True),\n",
    "            # Bước này không thay đổi số kênh, chỉ giúp mô hình học sâu hơn trên cùng độ phân giải.\n",
    "            nn.Conv2d(out_channels, out_channels, kernel_size=3, padding=1, bias=False),\n",
    "            nn.BatchNorm2d(out_channels),\n",
    "            nn.ReLU(inplace=True)\n",
    "        )\n",
    "    def forward(self    , x):\n",
    "        return self.conv(x)\n",
    "class Unet(nn.Module):\n",
    "    def __init__(self, in_channels=3, out_channels=1, features=[64, 128, 256, 512]):\n",
    "        super(Unet, self).__init__()\n",
    "        self.ups = nn.ModuleList()\n",
    "        self.downs = nn.ModuleList()\n",
    "        self.pool = nn.MaxPool2d(kernel_size=2, stride=2)\n",
    "\n",
    "        # Phần giảm kích thước (Encoder)\n",
    "        for feature in features:\n",
    "            self.downs.append(DoubleConv(in_channels, feature))\n",
    "            in_channels = feature\n",
    "\n",
    "        # Phần tăng kích thước (Decoder)\n",
    "        for feature in reversed(features):\n",
    "            self.ups.append(\n",
    "                nn.ConvTranspose2d(feature*2, feature, kernel_size=2, stride=2)\n",
    "            )\n",
    "            self.ups.append(DoubleConv(feature*2, feature))\n",
    "\n",
    "        self.bottleneck = DoubleConv(features[-1], features[-1]*2)\n",
    "        self.final_conv = nn.Conv2d(features[0], out_channels, kernel_size=1)\n",
    "\n",
    "    def forward(self, x):\n",
    "        skip_connections = []\n",
    "\n",
    "        for down in self.downs:\n",
    "            x = down(x)\n",
    "            skip_connections.append(x)\n",
    "            x = self.pool(x)\n",
    "\n",
    "        x = self.bottleneck(x)\n",
    "        skip_connections = skip_connections[::-1]\n",
    "\n",
    "        for idx in range(0, len(self.ups), 2):\n",
    "            x = self.ups[idx](x)  # ConvTranspose2d\n",
    "            skip_connection = skip_connections[idx//2]\n",
    "\n",
    "            if x.shape != skip_connection.shape:\n",
    "                x = TF.resize(x, size=skip_connection.shape[2:])\n",
    "\n",
    "            concat_skip = torch.cat((skip_connection, x), dim=1)  # Nối theo kênh\n",
    "            x = self.ups[idx+1](concat_skip)  # DoubleConv\n",
    "\n",
    "        return self.final_conv(x)"
   ],
   "id": "6d3aec576dc5d167"
  },
  {
   "metadata": {},
   "cell_type": "code",
   "outputs": [],
   "execution_count": null,
   "source": "",
   "id": "c426716c05bacba5"
  }
 ],
 "metadata": {
  "kernelspec": {
   "display_name": "venv31113",
   "language": "python",
   "name": "python3"
  },
  "language_info": {
   "codemirror_mode": {
    "name": "ipython",
    "version": 3
   },
   "file_extension": ".py",
   "mimetype": "text/x-python",
   "name": "python",
   "nbconvert_exporter": "python",
   "pygments_lexer": "ipython3",
   "version": "3.11.13"
  }
 },
 "nbformat": 4,
 "nbformat_minor": 5
}
